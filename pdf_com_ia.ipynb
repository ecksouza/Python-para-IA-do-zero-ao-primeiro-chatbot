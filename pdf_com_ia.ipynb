{
 "cells": [
  {
   "cell_type": "code",
   "execution_count": 1,
   "metadata": {},
   "outputs": [],
   "source": [
    "import os\n",
    "from langchain_groq import ChatGroq\n",
    "from langchain.prompts import ChatPromptTemplate\n",
    "\n",
    "api_key = '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'\n",
    "os.environ['GROQ_API_KEY'] = api_key\n",
    "\n",
    "chat = ChatGroq(model = 'llama-3.1-70b-versatile')"
   ]
  },
  {
   "cell_type": "code",
   "execution_count": 2,
   "metadata": {},
   "outputs": [],
   "source": [
    "#adicione o PDF\n",
    "from langchain_community.document_loaders import PyPDFLoader\n",
    "caminho = r'C:\\\\Users\\\\eckso\\\\Downloads\\\\Python_Ia\\\\pdf\\\\Projeto com IG Python.pdf'\n",
    "\n",
    "# Carregando o PDF\n",
    "loader = PyPDFLoader(caminho)\n",
    "lista_documentos = loader.load()\n"
   ]
  },
  {
   "cell_type": "code",
   "execution_count": 3,
   "metadata": {},
   "outputs": [],
   "source": [
    "documento = ''\n",
    "for doc in lista_documentos:\n",
    "    documento += doc.page_content"
   ]
  },
  {
   "cell_type": "code",
   "execution_count": 4,
   "metadata": {},
   "outputs": [
    {
     "name": "stdout",
     "output_type": "stream",
     "text": [
      "De acordo com o certificado de conclusão, o curso tem uma duração de 10 horas.\n"
     ]
    }
   ],
   "source": [
    "# Definindo o template do prompt\n",
    "template = ChatPromptTemplate.from_messages([\n",
    "    ('system', 'Você é um assistente virtual que possui as seguintes informações para formular suas respostas: {informacoes}'),\n",
    "    ('user', '{input}')\n",
    "])\n",
    "# Criando a cadeia de prompts\n",
    "chain_youtube = template | chat\n",
    "#faça sua pergunta sobre o PDF\n",
    "resposta = chain_youtube.invoke({'informacoes': documento, 'input': ' quanto tempo de duração tem o curso?'})\n",
    "print(resposta.content)"
   ]
  }
 ],
 "metadata": {
  "kernelspec": {
   "display_name": "Python 3",
   "language": "python",
   "name": "python3"
  },
  "language_info": {
   "codemirror_mode": {
    "name": "ipython",
    "version": 3
   },
   "file_extension": ".py",
   "mimetype": "text/x-python",
   "name": "python",
   "nbconvert_exporter": "python",
   "pygments_lexer": "ipython3",
   "version": "3.12.5"
  }
 },
 "nbformat": 4,
 "nbformat_minor": 2
}
