{
 "cells": [
  {
   "cell_type": "code",
   "execution_count": 1,
   "metadata": {},
   "outputs": [],
   "source": [
    "import os\n",
    "from langchain_groq import ChatGroq\n",
    "from langchain.prompts import ChatPromptTemplate\n",
    "\n",
    "api_key = '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'\n",
    "os.environ['GROQ_API_KEY'] = api_key\n",
    "\n",
    "chat = ChatGroq(model = 'llama-3.1-70b-versatile')\n",
    "\n",
    "def resposta_bot(mensagens, documento):\n",
    "  mensagens_system = ''' Você é um assistente chamado Pereira.\n",
    "  Voce utiliza as seguintes informacoes para formular suas respostas: {informacoes}'''\n",
    "  mensagens_modelo = [('system', mensagens_system)]\n",
    "  mensagens_modelo += mensagens\n",
    "  template = ChatPromptTemplate.from_messages(mensagens_modelo)\n",
    "  chain = template | chat\n",
    "  return chain.invoke({'informacoes': documentos}).content"
   ]
  },
  {
   "cell_type": "code",
   "execution_count": 2,
   "metadata": {},
   "outputs": [
    {
     "name": "stderr",
     "output_type": "stream",
     "text": [
      "USER_AGENT environment variable not set, consider setting it to identify your requests.\n"
     ]
    },
    {
     "name": "stdout",
     "output_type": "stream",
     "text": [
      "Bem-vindo ao PereiraBot\n"
     ]
    }
   ],
   "source": [
    "from langchain_community.document_loaders import WebBaseLoader\n",
    "from langchain_community.document_loaders import YoutubeLoader\n",
    "from langchain_community.document_loaders import PyPDFLoader\n",
    "\n",
    "\n",
    "def carrega_site():\n",
    "    url_site = input('Digite a url do site: ')\n",
    "    loader = WebBaseLoader(url_site)\n",
    "    lista_documentos = loader.load()\n",
    "    documento = ''\n",
    "    for doc in lista_documentos:\n",
    "        documento += doc.page_content\n",
    "    return documento\n",
    "\n",
    "def carrega_pdf():\n",
    "    caminho = r'C:\\\\Users\\\\eckso\\\\Downloads\\\\Python_Ia\\\\pdf\\\\Projeto com IG Python.pdf'\n",
    "    loader = PyPDFLoader(caminho)\n",
    "    lista_documentos = loader.load()\n",
    "    documento = ''\n",
    "    for doc in lista_documentos:\n",
    "        documento += doc.page_content\n",
    "    return documento\n",
    "\n",
    "def carrega_youtube():\n",
    "    url_youtube = input('Digite a url do vídeo: ')\n",
    "    loader = YoutubeLoader.from_youtube_url(url_youtube, language=['pt'])\n",
    "    lista_documentos = loader.load()\n",
    "    documento = ''\n",
    "    for doc in lista_documentos:\n",
    "        documento += doc.page_content\n",
    "    return documento\n",
    "\n",
    "print('Bem-vindo ao PereiraBot')"
   ]
  },
  {
   "cell_type": "code",
   "execution_count": 3,
   "metadata": {},
   "outputs": [
    {
     "name": "stdout",
     "output_type": "stream",
     "text": [
      "Bot: Como assistente Pereira, não tenho informações em tempo real, mas posso fornecer informações baseadas nos dados que eu tenho até 2023.\n",
      "\n",
      "De acordo com os dados que eu tenho, até 2023, a pessoa mais seguida no YouTube é:\n",
      "\n",
      "* T-Series, um canal indiano de música e entretenimento, com mais de 235 milhões de inscritos.\n",
      "\n",
      "No entanto, se considerarmos apenas os canais de criadores individuais, a pessoa mais seguida no YouTube é:\n",
      "\n",
      "* MrBeast (Jimmy Donaldson), com mais de 220 milhões de inscritos. Ele é um criador de conteúdo americano conhecido por seus vídeos de desafios, doações e experimentos.\n",
      "\n",
      "Lembre-se de que esses números podem ter mudado desde 2023, e é sempre uma boa ideia verificar os dados mais recentes para obter informações atualizadas.\n",
      "Muito obrigado por usar o Assistente\n"
     ]
    }
   ],
   "source": [
    "texto_selecao = '''Digite 1 se você quiser conversar com um site\n",
    "Digite 2 se você quiser conversar com um pdf\n",
    "Digite 3 se você quiser conversar com um vídeo de youtube '''\n",
    "\n",
    "while True:\n",
    "    selecao = input(texto_selecao)\n",
    "    if selecao == '1':\n",
    "        documentos = carrega_site()\n",
    "        break\n",
    "    if selecao == '2':\n",
    "        documentos = carrega_pdf()\n",
    "        break\n",
    "    if selecao == '3':\n",
    "        documentos = carrega_youtube()\n",
    "        break\n",
    "    print('Digite um valor entre 1 e 3')\n",
    "\n",
    "mensagens = []\n",
    "while True:\n",
    "    pergunta = input('Usuario: ')\n",
    "    if pergunta.lower() == 'x':\n",
    "        break\n",
    "    mensagens.append(('user', pergunta))\n",
    "    resposta = resposta_bot(mensagens, documentos)\n",
    "    mensagens.append(('assistant', resposta))\n",
    "    print(f'Bot: {resposta}')\n",
    "\n",
    "print('Muito obrigado por usar o PereiraBot')"
   ]
  }
 ],
 "metadata": {
  "kernelspec": {
   "display_name": "Python 3",
   "language": "python",
   "name": "python3"
  },
  "language_info": {
   "codemirror_mode": {
    "name": "ipython",
    "version": 3
   },
   "file_extension": ".py",
   "mimetype": "text/x-python",
   "name": "python",
   "nbconvert_exporter": "python",
   "pygments_lexer": "ipython3",
   "version": "3.12.5"
  }
 },
 "nbformat": 4,
 "nbformat_minor": 2
}
